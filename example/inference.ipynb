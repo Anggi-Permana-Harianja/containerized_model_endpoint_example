{
 "cells": [
  {
   "cell_type": "code",
   "execution_count": 2,
   "id": "9908fc0d-d0bb-4cb0-bcac-84276b51ca0e",
   "metadata": {},
   "outputs": [],
   "source": [
    "import requests\n",
    "import json"
   ]
  },
  {
   "cell_type": "code",
   "execution_count": 6,
   "id": "7c8063ae-17e7-4f92-b102-6fe512000594",
   "metadata": {},
   "outputs": [
    {
     "name": "stdout",
     "output_type": "stream",
     "text": [
      "{\"prediction\":[1]}\n"
     ]
    }
   ],
   "source": [
    "'''\n",
    "prediction using obj\n",
    "'''\n",
    "api_endpoint = 'http://127.0.0.1:81/predict_obj/' #this endpoint is container endpoint\n",
    "\n",
    "data = {\n",
    "  \"sepal_length\": 1,\n",
    "  \"sepal_width\": 1,\n",
    "  \"petal_length\": 1,\n",
    "  \"petal_width\": 1\n",
    "}\n",
    "\n",
    "\n",
    "response = requests.post(api_endpoint, json=data)\n",
    "print(response.text)"
   ]
  },
  {
   "cell_type": "code",
   "execution_count": 5,
   "id": "a8f7800e-fc7a-4b87-afa7-6da10ba0c7dd",
   "metadata": {},
   "outputs": [
    {
     "name": "stdout",
     "output_type": "stream",
     "text": [
      "{\"prediction\":[0]}\n"
     ]
    }
   ],
   "source": [
    "'''\n",
    "prediction using list\n",
    "'''\n",
    "api_endpoint = 'http://127.0.0.1:81/predict_list/' #this endpoint is container endpoint\n",
    "\n",
    "data = {\n",
    "    'data': [6.8,  2.8,  4.8,  1.4]\n",
    "}\n",
    "\n",
    "response = requests.post(api_endpoint, json=data)\n",
    "print(response.text)"
   ]
  },
  {
   "cell_type": "code",
   "execution_count": null,
   "id": "90c68193-5df9-4545-813e-7849a166e317",
   "metadata": {},
   "outputs": [],
   "source": []
  }
 ],
 "metadata": {
  "kernelspec": {
   "display_name": "Python 3 (ipykernel)",
   "language": "python",
   "name": "python3"
  },
  "language_info": {
   "codemirror_mode": {
    "name": "ipython",
    "version": 3
   },
   "file_extension": ".py",
   "mimetype": "text/x-python",
   "name": "python",
   "nbconvert_exporter": "python",
   "pygments_lexer": "ipython3",
   "version": "3.9.7"
  }
 },
 "nbformat": 4,
 "nbformat_minor": 5
}
